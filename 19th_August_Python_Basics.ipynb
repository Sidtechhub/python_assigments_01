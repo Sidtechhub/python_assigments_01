{
 "cells": [
  {
   "cell_type": "code",
   "execution_count": 8,
   "id": "67d5fc0c-69d2-4292-b02c-165a01a544e5",
   "metadata": {},
   "outputs": [],
   "source": [
    "# TOPIC: Python Basics Variable"
   ]
  },
  {
   "cell_type": "code",
   "execution_count": 9,
   "id": "80dedb5a-0bc0-40d9-9bf9-d702b83cb343",
   "metadata": {},
   "outputs": [],
   "source": [
    "a,b=10,20 \n",
    "#Declaring two variables a and b and assigning them values"
   ]
  },
  {
   "cell_type": "code",
   "execution_count": 10,
   "id": "ca649a70-7a2a-462e-9862-5ec0f8adfff4",
   "metadata": {},
   "outputs": [],
   "source": [
    "b=a+b #10+20=30\n",
    "a=b-a#a=30-a=30-10=20\n",
    "b=b-a#b=30-20=10\n",
    "#sum of any two numbers=number1 +number2\n",
    "#any one no.=Sum of two numbers -  other number"
   ]
  },
  {
   "cell_type": "code",
   "execution_count": 11,
   "id": "edf7c0c0-8843-45ab-ac49-248af9c53f9d",
   "metadata": {
    "tags": []
   },
   "outputs": [
    {
     "name": "stdout",
     "output_type": "stream",
     "text": [
      "20\n"
     ]
    }
   ],
   "source": [
    "print(a)"
   ]
  },
  {
   "cell_type": "code",
   "execution_count": 12,
   "id": "18dabdba-0c11-4bba-8fca-719020ba9a6c",
   "metadata": {
    "tags": []
   },
   "outputs": [
    {
     "name": "stdout",
     "output_type": "stream",
     "text": [
      "10\n"
     ]
    }
   ],
   "source": [
    "print(b)"
   ]
  },
  {
   "cell_type": "code",
   "execution_count": null,
   "id": "e5d461c7-c8ae-4e8d-bd6a-bab9bcb35e72",
   "metadata": {},
   "outputs": [],
   "source": []
  },
  {
   "cell_type": "code",
   "execution_count": 13,
   "id": "2bb70078-ccee-478a-bc79-0a62b6476c16",
   "metadata": {},
   "outputs": [],
   "source": [
    "# # 2. Create a program that calculates the area of a rectangle. Take the length and\n",
    "#  width as inputs from the user and store them in variables. Calculate and\n",
    "# # display the area."
   ]
  },
  {
   "cell_type": "code",
   "execution_count": 14,
   "id": "a2c4bd0f-5195-463c-923d-745a51c9de5a",
   "metadata": {
    "scrolled": true,
    "tags": []
   },
   "outputs": [
    {
     "name": "stdin",
     "output_type": "stream",
     "text": [
      "Enter the value of length: 12\n"
     ]
    }
   ],
   "source": [
    "length=int(input(\"Enter the value of length:\"))\n",
    "#Declaring length variable for receiving length of rectangle and type-casting it from string to an int data type\n",
    "#input is displayed as Enter the value of length: 12 \n",
    "# here 12 is input length"
   ]
  },
  {
   "cell_type": "code",
   "execution_count": 15,
   "id": "344a0090-1afb-45e3-a742-4bcd7c5e5095",
   "metadata": {
    "tags": []
   },
   "outputs": [
    {
     "name": "stdin",
     "output_type": "stream",
     "text": [
      "Enter the value of width: 13\n"
     ]
    }
   ],
   "source": [
    "width=int(input(\"Enter the value of width:\"))\n",
    "#Declaring width variable for receiving width of rectangle and type-casting it from string to an int data type\n",
    "#input is displayed as- \n",
    "# Enter the value of width: 12 \n",
    "# here 13 is input width"
   ]
  },
  {
   "cell_type": "code",
   "execution_count": null,
   "id": "07989e21-49ab-4456-9b44-0ab306f1a6e9",
   "metadata": {},
   "outputs": [],
   "source": []
  },
  {
   "cell_type": "code",
   "execution_count": 16,
   "id": "80f8e023-4c20-4cf6-b00c-a04a06374da4",
   "metadata": {},
   "outputs": [],
   "source": [
    "area =(length)*(width)\n",
    "#area of rectangle=product of length and width= length X width =length*width\n",
    "# 12 multiplies 13=156"
   ]
  },
  {
   "cell_type": "code",
   "execution_count": 17,
   "id": "1cd5dd20-b28c-444f-b773-66c3715081a2",
   "metadata": {},
   "outputs": [
    {
     "name": "stdout",
     "output_type": "stream",
     "text": [
      "The area of rectangle is 156\n"
     ]
    }
   ],
   "source": [
    "print(\"The area of rectangle is\"+\" \" +str(area))"
   ]
  },
  {
   "cell_type": "code",
   "execution_count": null,
   "id": "bff11b9b-ca1b-4899-80f6-599868c3ba5e",
   "metadata": {},
   "outputs": [],
   "source": []
  },
  {
   "cell_type": "code",
   "execution_count": 18,
   "id": "9e320b46-7a9f-43ad-82ff-c9bc7e983308",
   "metadata": {},
   "outputs": [],
   "source": [
    "# 3. Write a Python program that converts temperatures from Celsius to\n",
    "# Fahrenheit. Take the temperature in Celsius as input, store it in a variable,\n",
    "# convert it to Fahrenheit, and display the result."
   ]
  },
  {
   "cell_type": "code",
   "execution_count": 19,
   "id": "e474474b-592d-4eb1-b90a-17e2c34f4377",
   "metadata": {},
   "outputs": [
    {
     "name": "stdin",
     "output_type": "stream",
     "text": [
      "Enter the value of temperature in Celcius: 38.2\n"
     ]
    }
   ],
   "source": [
    "c=float(input(\"Enter the value of temperature in Celcius:\"))\n",
    "#creating c variable for receiving value of temperature in celcius from the user and type-casting it into float value for receiving and possible decimal value also\n",
    "#input is displayed as-\n",
    "# Enter the value of temperature in Celcius: 38.2\n",
    "# 38.2 is input value given "
   ]
  },
  {
   "cell_type": "code",
   "execution_count": 20,
   "id": "7758e430-8586-4af8-8880-0ee0f99fabef",
   "metadata": {},
   "outputs": [],
   "source": [
    "f=(9/5)*c +32\n",
    "#Using mathematical formula \n",
    "# If Fahrenheit=F  and Celcius=C\n",
    "#F=(9/5)*C +32"
   ]
  },
  {
   "cell_type": "code",
   "execution_count": 21,
   "id": "87befa9e-3028-47e0-aa27-08c5bd11c3ec",
   "metadata": {},
   "outputs": [
    {
     "name": "stdout",
     "output_type": "stream",
     "text": [
      "The value of 38.2 degree celsius = 100.76 degree fahrenheit\n"
     ]
    }
   ],
   "source": [
    "print(\"The value of \"+str(c)+\" degree celsius = \" +str(f)+ \" degree fahrenheit\")"
   ]
  },
  {
   "cell_type": "code",
   "execution_count": null,
   "id": "4a92efe6-8004-4522-9c15-529a7f9e30f4",
   "metadata": {},
   "outputs": [],
   "source": []
  },
  {
   "cell_type": "code",
   "execution_count": 22,
   "id": "762cfaad-f7ea-42cd-929e-e2ab7b53608d",
   "metadata": {},
   "outputs": [],
   "source": [
    "# TOPIC: String Based Questions"
   ]
  },
  {
   "cell_type": "code",
   "execution_count": 23,
   "id": "f902dedf-221d-46c9-9eac-71d98df86481",
   "metadata": {},
   "outputs": [],
   "source": [
    "# 1. Write a Python program that takes a string as input and prints the length of\n",
    "# the string."
   ]
  },
  {
   "cell_type": "code",
   "execution_count": 24,
   "id": "c8089460-29ec-4ca9-80bb-5c68d37a44d0",
   "metadata": {},
   "outputs": [
    {
     "name": "stdin",
     "output_type": "stream",
     "text": [
      "Enter something here: On self-realization  the soul in union with supreme-soul experiences the infinite bliss.\n"
     ]
    }
   ],
   "source": [
    "statement=input(\"Enter something here:\")\n",
    "#Declaring starement variable as an input from the user\n",
    "# input is displayed as-\n",
    "# Enter something here: On self-realisation  the soul in union with supreme-soul experiences the infinite bliss.\n",
    "# \"On self-realisation  the soul in union with supreme-soul experiences the infinite bliss.\" is input value entered"
   ]
  },
  {
   "cell_type": "code",
   "execution_count": 25,
   "id": "60a06759-7eda-4fb6-a4ba-fb3d990fa2b8",
   "metadata": {},
   "outputs": [
    {
     "name": "stdout",
     "output_type": "stream",
     "text": [
      "88\n"
     ]
    }
   ],
   "source": [
    "print(len(statement))\n",
    "#Using len() function to calculate the length of string"
   ]
  },
  {
   "cell_type": "code",
   "execution_count": null,
   "id": "d8eb5365-361b-47b0-b6b6-580301b753dd",
   "metadata": {},
   "outputs": [],
   "source": []
  },
  {
   "cell_type": "code",
   "execution_count": 26,
   "id": "d2074fa8-4839-42c0-91f0-f3958e976b0b",
   "metadata": {},
   "outputs": [],
   "source": [
    "# 2. Create a program that takes a sentence from the user and counts the number\n",
    "# of vowels (a, e, i, o, u) in the string."
   ]
  },
  {
   "cell_type": "code",
   "execution_count": null,
   "id": "d3272e0b-8089-41ff-ba69-b0f88fdf8c5d",
   "metadata": {},
   "outputs": [],
   "source": []
  },
  {
   "cell_type": "code",
   "execution_count": 27,
   "id": "1dc0fabd-d9bf-4141-8fe0-48415492a237",
   "metadata": {
    "scrolled": true,
    "tags": []
   },
   "outputs": [
    {
     "name": "stdin",
     "output_type": "stream",
     "text": [
      "Enter text here: The supreme absolute truth is all-pervading consciousness and supreme-bliss.\n"
     ]
    }
   ],
   "source": [
    "sentence=input(\"Enter text here:\")\n",
    "#Declaring sentence variable as an input sentence(string) from user\n",
    "# input is displayed as-\n",
    "# Enter text here: The supreme absolute truth is all-pervading consciousness and supreme-bliss.\n",
    "# \"The supreme absolute truth is all-pervading consciousness and supreme-bliss\" is input value"
   ]
  },
  {
   "cell_type": "code",
   "execution_count": 28,
   "id": "1ff3dd26-fe2c-471b-846b-2c67cb52e880",
   "metadata": {},
   "outputs": [],
   "source": [
    "new_sentence=sentence.lower()\n",
    "#adding lower() to sentence so that capital vowels letters aren't neglected .Capital vowel letter would be converted to small alphabet letters and they would't be neglected "
   ]
  },
  {
   "cell_type": "code",
   "execution_count": 29,
   "id": "3fc37f62-1bb6-40de-ba2d-54ec254212ca",
   "metadata": {
    "tags": []
   },
   "outputs": [],
   "source": [
    "a=new_sentence.count(\"a\")\n",
    "#Creating a variable which give number of a 's in the sentence"
   ]
  },
  {
   "cell_type": "code",
   "execution_count": 30,
   "id": "a80d63ab-068f-4d1d-b984-e88efe5ae0da",
   "metadata": {},
   "outputs": [],
   "source": [
    "e=new_sentence.count(\"e\")\n",
    "#Creating a variable which give number of e 's in the sentence"
   ]
  },
  {
   "cell_type": "code",
   "execution_count": 31,
   "id": "840e8cc3-f4b0-416f-a0b3-e8987fec400c",
   "metadata": {},
   "outputs": [],
   "source": [
    "i=new_sentence.count(\"i\")\n",
    "#Creating a variable which give number of i 's in the sentence"
   ]
  },
  {
   "cell_type": "code",
   "execution_count": 32,
   "id": "f59fb3bc-ec7f-4a6f-9ef4-24f7113ed643",
   "metadata": {},
   "outputs": [],
   "source": [
    "o=new_sentence.count(\"o\")\n",
    "#Creating a variable which give number of o 's in the sentence"
   ]
  },
  {
   "cell_type": "code",
   "execution_count": 33,
   "id": "c9d561ec-1928-4887-9dd2-342846151635",
   "metadata": {},
   "outputs": [],
   "source": [
    "u=new_sentence.count(\"u\")\n",
    "#Creating a variable which give number of u 's in the sentence"
   ]
  },
  {
   "cell_type": "code",
   "execution_count": 34,
   "id": "a4e5fa10-cf13-48ff-b149-4fd0908ca016",
   "metadata": {},
   "outputs": [],
   "source": [
    "vowels=a + e + i + o + u\n",
    "#declaring vowels variable for including sum of all vowels counts in the sentence"
   ]
  },
  {
   "cell_type": "code",
   "execution_count": 35,
   "id": "ee73eec4-9ecd-4599-a6e5-d6c51b5b4504",
   "metadata": {},
   "outputs": [
    {
     "name": "stdout",
     "output_type": "stream",
     "text": [
      "The no. of vowels in the statement are 24\n"
     ]
    }
   ],
   "source": [
    "print(\"The no. of vowels in the statement are\"+\" \"+str(vowels))"
   ]
  },
  {
   "cell_type": "code",
   "execution_count": null,
   "id": "3e7ae61b-ac99-4c5a-91a8-949a5a628ff9",
   "metadata": {},
   "outputs": [],
   "source": []
  },
  {
   "cell_type": "code",
   "execution_count": 36,
   "id": "34a42713-5604-4fab-8f79-c229750c6d58",
   "metadata": {},
   "outputs": [],
   "source": [
    "# 3. Given a string, reverse the order of characters using string slicing and print\n",
    "# the reversed string."
   ]
  },
  {
   "cell_type": "code",
   "execution_count": 37,
   "id": "409b19b8-d57e-4619-bbad-27f0b866624e",
   "metadata": {},
   "outputs": [],
   "source": [
    "given_word=\"miracle\"\n",
    "#creating given_word variable with a string value "
   ]
  },
  {
   "cell_type": "code",
   "execution_count": 38,
   "id": "f7b05eec-8b2f-491c-a81d-1e47e14071b1",
   "metadata": {},
   "outputs": [],
   "source": [
    "reversed_given_word=given_word[::-1]\n",
    "#creating another variable for slicing with jump value =-1 which moves in  negative direction from last index of string to the 0 index of the string"
   ]
  },
  {
   "cell_type": "code",
   "execution_count": 39,
   "id": "83b6fccf-4a07-4886-aa0a-e72b119c6868",
   "metadata": {},
   "outputs": [
    {
     "name": "stdout",
     "output_type": "stream",
     "text": [
      "elcarim\n"
     ]
    }
   ],
   "source": [
    "print(reversed_given_word)"
   ]
  },
  {
   "cell_type": "code",
   "execution_count": null,
   "id": "294406a3-2fe2-440b-bde1-eaa5dfd5a77e",
   "metadata": {},
   "outputs": [],
   "source": []
  },
  {
   "cell_type": "code",
   "execution_count": 40,
   "id": "741b9ec5-9720-4976-8327-4f96f0b2edbc",
   "metadata": {},
   "outputs": [],
   "source": [
    "# 4. Write a program that takes a string as input and checks if it is a palindrome\n",
    "# (reads the same forwards and backwards)."
   ]
  },
  {
   "cell_type": "code",
   "execution_count": 41,
   "id": "03c1f8f9-e7e1-45e6-a2cd-e159e2be46a6",
   "metadata": {},
   "outputs": [
    {
     "name": "stdin",
     "output_type": "stream",
     "text": [
      "Enter the word to recognize pallindrome : wow\n"
     ]
    }
   ],
   "source": [
    "word=input(\"Enter the word to recognize pallindrome :\")\n",
    "#creating word variable with a input string value\n",
    "#input is displayed as -\n",
    "# Enter the word to recognize pallindrome : wow\n",
    "# \"wow\" is input value given"
   ]
  },
  {
   "cell_type": "code",
   "execution_count": 42,
   "id": "ddda9623-a327-4859-ad7c-fb078f5f683e",
   "metadata": {},
   "outputs": [],
   "source": [
    "reversed_word=word[::-1]\n",
    "#creating reversed_word variable with a string value for slicing with jump value =-1 which moves in  negative direction from last index of string to the 0 index of the string"
   ]
  },
  {
   "cell_type": "code",
   "execution_count": 43,
   "id": "24ea050e-5599-4243-8d4a-9a83d8c480db",
   "metadata": {},
   "outputs": [
    {
     "name": "stdout",
     "output_type": "stream",
     "text": [
      "Yes, wow is a pallindrome\n"
     ]
    }
   ],
   "source": [
    "if(word==reversed_word):\n",
    "    print(\"Yes, \"+str(word)+\" is a pallindrome\")\n",
    "else:\n",
    "    print(\"No,\"+str(word)+\" isn't  a pallindrome\")"
   ]
  },
  {
   "cell_type": "code",
   "execution_count": null,
   "id": "ef204705-fcaa-4e78-8be0-7e3a3f1cf161",
   "metadata": {},
   "outputs": [],
   "source": []
  },
  {
   "cell_type": "code",
   "execution_count": 44,
   "id": "18071534-f63e-4bc5-aec9-f74b50fc04cb",
   "metadata": {},
   "outputs": [],
   "source": [
    "# 5. Create a program that takes a string as input and removes all the spaces from\n",
    "# it. Print the modified string without spaces."
   ]
  },
  {
   "cell_type": "code",
   "execution_count": 45,
   "id": "9df8d334-0fae-4e58-a6e4-fdd803ccc4a5",
   "metadata": {},
   "outputs": [
    {
     "name": "stdin",
     "output_type": "stream",
     "text": [
      "Enter your text here:  I   am       going   to        Himalayas to do penance for   self     - realization .\n"
     ]
    }
   ],
   "source": [
    "choice_words=input(\"Enter your text here:\")\n",
    "#Creating choice_words variable for taking input string from user \n",
    "# input is displayed as follows\n",
    "# Enter your text here: I   am       going   to        Himalayas to do penance for   self     - realization .\n",
    "# \"I   am       going   to        Himalayas to do penance for   self     - realization\" is input given"
   ]
  },
  {
   "cell_type": "code",
   "execution_count": 46,
   "id": "a903dbd3-c6d3-473a-b1a1-9c85f68e48a0",
   "metadata": {},
   "outputs": [],
   "source": [
    "enhanced_choice_words=choice_words.replace(\" \",\"\")\n",
    "#using replace() for replacing space that is \" \"  with \"\" where\"\" is no space between the each letter of string "
   ]
  },
  {
   "cell_type": "code",
   "execution_count": 47,
   "id": "2d1706f6-0cd4-4d50-91fe-68a4628ee0ba",
   "metadata": {},
   "outputs": [
    {
     "name": "stdout",
     "output_type": "stream",
     "text": [
      "IamgoingtoHimalayastodopenanceforself-realization.\n"
     ]
    }
   ],
   "source": [
    "print(enhanced_choice_words)"
   ]
  },
  {
   "cell_type": "code",
   "execution_count": null,
   "id": "89633999-0fe7-41d1-8c3f-3d93e27e3c58",
   "metadata": {},
   "outputs": [],
   "source": []
  },
  {
   "cell_type": "code",
   "execution_count": null,
   "id": "a729a963-6306-4afc-97a6-eb3fb19ccdcf",
   "metadata": {},
   "outputs": [],
   "source": []
  }
 ],
 "metadata": {
  "kernelspec": {
   "display_name": "Python 3 (ipykernel)",
   "language": "python",
   "name": "python3"
  },
  "language_info": {
   "codemirror_mode": {
    "name": "ipython",
    "version": 3
   },
   "file_extension": ".py",
   "mimetype": "text/x-python",
   "name": "python",
   "nbconvert_exporter": "python",
   "pygments_lexer": "ipython3",
   "version": "3.10.8"
  },
  "toc-showtags": false
 },
 "nbformat": 4,
 "nbformat_minor": 5
}
